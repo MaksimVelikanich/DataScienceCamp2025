{
 "cells": [
  {
   "cell_type": "markdown",
   "id": "d67da3fc-16d0-4a73-8b1b-c371bd60b2d2",
   "metadata": {},
   "source": [
    "# **Home task : Linear Models**"
   ]
  },
  {
   "cell_type": "code",
   "execution_count": 201,
   "id": "054df645-8cf4-4ae7-972e-980c130eebb9",
   "metadata": {},
   "outputs": [],
   "source": [
    "from sklearn.linear_model import Ridge,Lasso\n",
    "from sklearn.preprocessing import PolynomialFeatures\n",
    "from sklearn.datasets import load_diabetes\n",
    "from sklearn.linear_model import LinearRegression\n"
   ]
  },
  {
   "cell_type": "code",
   "execution_count": 203,
   "id": "8d526cb0-aed6-4058-b884-e63b110c9fd7",
   "metadata": {},
   "outputs": [],
   "source": [
    "X, y = load_diabetes(return_X_y=True)\n",
    "X_train, X_test, y_train, y_test = train_test_split(X, y, random_state=2021)\n"
   ]
  },
  {
   "cell_type": "markdown",
   "id": "3d390c9a-31d2-46c3-b944-de4c495b348b",
   "metadata": {},
   "source": [
    "## *Ridge*\n"
   ]
  },
  {
   "cell_type": "code",
   "execution_count": 206,
   "id": "da9abdb2-fccd-4e9e-a950-def6911e8596",
   "metadata": {},
   "outputs": [
    {
     "name": "stdout",
     "output_type": "stream",
     "text": [
      "Ridge\n",
      "R2 train score = 0.507367575168724\n",
      "R2 test score = 0.5279109439676835\n",
      "b: 149.98791540785498, \n",
      "w= [ -0.9205521  -11.43547844  26.95463091  11.85712297 -23.05495282\n",
      "  12.58634979  -0.87148624   7.21979047  30.90948434   3.74983364]\n"
     ]
    }
   ],
   "source": [
    "\n",
    "from sklearn.preprocessing import StandardScaler\n",
    "\n",
    "scaler = StandardScaler()\n",
    "X_train_scaled = scaler.fit_transform(X_train)\n",
    "X_test_scaled = scaler.transform(X_test)\n",
    "\n",
    "ridge_reg = Ridge(alpha=0.1)\n",
    "ridge_reg.fit(X_train_scaled, y_train)\n",
    "\n",
    "print('Ridge')\n",
    "print('R2 train score =', ridge_reg.score(X_train_scaled, y_train))\n",
    "print('R2 test score =', ridge_reg.score(X_test_scaled, y_test))\n",
    "print('b: {}, \\nw= {}'.format(ridge_reg.intercept_, ridge_reg.coef_))"
   ]
  },
  {
   "cell_type": "markdown",
   "id": "cfe9db60-61fd-4a07-8377-5fb09dae1ba2",
   "metadata": {},
   "source": [
    "## *Lasso*\n"
   ]
  },
  {
   "cell_type": "code",
   "execution_count": 209,
   "id": "fcddf9f3-ec26-46e7-ae8d-a95022854d7f",
   "metadata": {},
   "outputs": [
    {
     "name": "stdout",
     "output_type": "stream",
     "text": [
      "Lasso\n",
      "R2 train score = 0.5070270881779531\n",
      "R2 test score = 0.5242404860395271\n",
      "b: 149.98791540785498, \n",
      "w= [ -0.76490828 -11.22033592  27.03811279  11.71814353 -13.15171553\n",
      "   4.83073265  -5.0588187    5.82256057  27.2382852    3.66430718]\n"
     ]
    }
   ],
   "source": [
    "\n",
    "scaler = StandardScaler()\n",
    "X_train_scaled = scaler.fit_transform(X_train)\n",
    "X_test_scaled = scaler.transform(X_test)\n",
    "\n",
    "\n",
    "lasso_reg = Lasso(alpha=0.1)\n",
    "lasso_reg.fit(X_train_scaled, y_train)\n",
    "\n",
    "print('Lasso')\n",
    "\n",
    "print('R2 train score =', lasso_reg.score(X_train_scaled, y_train))\n",
    "print('R2 test score =', lasso_reg.score(X_test_scaled, y_test))\n",
    "print('b: {}, \\nw= {}'.format(lasso_reg.intercept_, lasso_reg.coef_))"
   ]
  },
  {
   "cell_type": "markdown",
   "id": "b194e97b-7f77-4371-adb1-10d6222cc546",
   "metadata": {},
   "source": [
    "## *Polynomial + Ridge*\n"
   ]
  },
  {
   "cell_type": "code",
   "execution_count": 212,
   "id": "4fd2fae9-44fb-4acb-986a-0e3a8f3df0c1",
   "metadata": {},
   "outputs": [
    {
     "name": "stdout",
     "output_type": "stream",
     "text": [
      "\n",
      "X_train.shape = (331, 10)\n",
      "X_train_poly.shape = (331, 65)\n",
      "\n",
      "Polynomial + Ridge\n",
      "R2 train score = 0.6100627084392372\n",
      "R2 test score = 0.3942687788575445\n",
      "b: 149.98791540785473, \n",
      "w= [  4.0065916   -5.83955925  23.33403024  10.7254975   -1.58335322\n",
      "  -3.49685129  -8.212234     8.61204103  23.4572454    5.75505024\n",
      "   6.9363288    9.71437695  -0.11944439   2.75151819  -2.12292803\n",
      "  -7.41185744   4.6427192    3.38647244   7.73097157  -2.79996656\n",
      "  -5.83955925   5.03882969   0.66747388   1.36390438  -2.3380374\n",
      "   3.86418692  -6.06624591  -0.14107829   2.97342116   4.96706538\n",
      "   8.40875434  -5.96477904   3.08165628   3.13867     -0.16583584\n",
      "  -1.00000599   1.45866479  -1.02627999   1.69103399   1.03242072\n",
      "   4.15243852   4.63582778   1.78635595  -6.1087561    3.6758643\n",
      "   5.19660932   3.04069727 -14.4028515   -8.71701746  -1.31620162\n",
      "  -1.36697959  -6.77998575  -1.44476348  14.7642228   -1.46063571\n",
      "  -4.6081885   -7.60954873  -1.23525193  12.33310495   1.2374831\n",
      "  -6.1279056   11.07820978   1.38269758   4.47211524   6.40110995]\n"
     ]
    }
   ],
   "source": [
    "poly = PolynomialFeatures(degree=2, include_bias=False)\n",
    "poly_ridge = Ridge(alpha=10)\n",
    "\n",
    "X_train_poly = poly.fit_transform(X_train)\n",
    "X_test_poly = poly.transform(X_test)\n",
    "\n",
    "print('\\nX_train.shape =', X_train.shape)\n",
    "print('X_train_poly.shape =', X_train_poly.shape)\n",
    "\n",
    "scaler = StandardScaler()\n",
    "X_train_poly_scaled = scaler.fit_transform(X_train_poly)\n",
    "X_test_poly_scaled = scaler.transform(X_test_poly)\n",
    "\n",
    "poly_ridge.fit(X_train_poly_scaled, y_train)\n",
    "poly_ridge.score(X_test_poly_scaled, y_test)\n",
    "\n",
    "print('\\nPolynomial + Ridge')\n",
    "print('R2 train score =', poly_ridge.score(X_train_poly_scaled, y_train))\n",
    "print('R2 test score =', poly_ridge.score(X_test_poly_scaled, y_test))\n",
    "print('b: {}, \\nw= {}'.format(poly_ridge.intercept_, poly_ridge.coef_))\n",
    "\n"
   ]
  },
  {
   "cell_type": "markdown",
   "id": "cd04baac-3554-499a-865d-9b47cc78c4d2",
   "metadata": {},
   "source": [
    "## *Polynomial + Lasso*\n"
   ]
  },
  {
   "cell_type": "code",
   "execution_count": 222,
   "id": "4e92101d-bcb1-4291-bc30-ccc939b0526f",
   "metadata": {},
   "outputs": [
    {
     "name": "stdout",
     "output_type": "stream",
     "text": [
      "\n",
      "X_train.shape = (331, 10)\n",
      "X_train_poly.shape = (331, 65)\n",
      "\n",
      "Polynomial + Lasso\n",
      "R2 train score = 0.6153205732302907\n",
      "R2 test score = 0.37717917508553955\n",
      "b: 149.98791540785447, \n",
      "w= [  4.03442529  -0.52255247  23.79534337  10.73649774  -7.36732377\n",
      "  -0.          -4.4094594   10.44825762  28.15665778   5.38803601\n",
      "   7.14044412  10.06483424   0.           2.18611363   0.\n",
      "  -9.87491378   4.06983392   4.27717556   7.2488209   -2.66991095\n",
      " -11.53123637   5.13212481   0.12581817   0.53179966  -0.\n",
      "   2.17324044  -9.4492443    0.68086778   3.40633302   4.70390704\n",
      "   8.27263442  -8.68238166   5.77367119   4.50979676  -0.26747463\n",
      "  -0.36802738   1.49892549  -0.97827333   3.0039856   -0.\n",
      "   2.72489969   5.12965407   0.5202024   -5.71845532  13.6955712\n",
      "   0.           0.         -25.07678674 -24.30517743  -4.13731706\n",
      "  -0.          -9.83840678   0.          24.90481673  -2.59697204\n",
      "  -5.88979367  -4.22918441   3.15460845  18.88910374   4.00556919\n",
      "  -3.20180593  19.31125089  10.10299028   5.09093844   6.27843932]\n"
     ]
    }
   ],
   "source": [
    "poly = PolynomialFeatures(degree=2, include_bias=False)\n",
    "poly_lasso = Lasso(alpha=0.1)\n",
    "\n",
    "X_train_poly = poly.fit_transform(X_train)\n",
    "X_test_poly = poly.transform(X_test)\n",
    "\n",
    "print('\\nX_train.shape =', X_train.shape)\n",
    "print('X_train_poly.shape =', X_train_poly.shape)\n",
    "\n",
    "scaler = StandardScaler()\n",
    "X_train_poly_scaled = scaler.fit_transform(X_train_poly)\n",
    "X_test_poly_scaled = scaler.transform(X_test_poly)\n",
    "\n",
    "poly_lasso.fit(X_train_poly_scaled, y_train)\n",
    "poly_lasso.score(X_test_poly_scaled, y_test)\n",
    "\n",
    "print('\\nPolynomial + Lasso')\n",
    "print('R2 train score =', poly_lasso.score(X_train_poly_scaled, y_train))\n",
    "print('R2 test score =', poly_lasso.score(X_test_poly_scaled, y_test))\n",
    "print('b: {}, \\nw= {}'.format(poly_lasso.intercept_, poly_lasso.coef_))\n",
    "\n"
   ]
  },
  {
   "cell_type": "markdown",
   "id": "aac0aae0-5a45-490a-ab5a-871d4f3415f4",
   "metadata": {},
   "source": [
    "## *Polynomial + Linear Regression*\n"
   ]
  },
  {
   "cell_type": "code",
   "execution_count": 218,
   "id": "26be1f17-d7f1-4d16-b9f7-7226a10082b4",
   "metadata": {},
   "outputs": [
    {
     "name": "stdout",
     "output_type": "stream",
     "text": [
      "\n",
      "X_train.shape = (331, 10)\n",
      "X_train_poly.shape = (331, 65)\n",
      "\n",
      "Polynomial + Linear Regression\n",
      "R2 train score = 0.614756134951671\n",
      "R2 test score = 0.31843818710396066\n",
      "b: 121.14239999557549, \n",
      "w= [ 4.97209636e+00  6.75948124e+14  2.45244024e+01  1.22521691e+01\n",
      " -8.60589607e+02  7.58065431e+02  2.97477919e+02  1.72470617e+00\n",
      "  3.13191853e+02  5.65618680e+00  7.89637953e+00  9.73014607e+00\n",
      "  7.60534684e-02  1.92094431e+00  2.73591557e+01 -3.45583018e+01\n",
      " -5.39219268e+00  2.22352079e+00  3.28751481e-01 -1.96541874e+00\n",
      " -6.75948124e+14  6.66115420e+00 -2.52884401e-01 -9.46025140e+00\n",
      "  9.47079901e+00  2.47432418e+00 -1.30646886e+01  3.97574127e+00\n",
      "  4.30361657e+00  2.87879381e+00  1.04626601e+01  1.01430807e-01\n",
      " -3.99970650e+00  2.68750000e+00  2.17968750e+00 -1.53125000e+00\n",
      "  1.65625000e+00 -3.40625000e+00  4.32500000e+01 -3.47500000e+01\n",
      " -1.07460938e+01  7.26562500e+00 -1.39375000e+01 -6.96875000e+00\n",
      "  2.98093750e+02 -3.93843750e+02 -1.62781250e+02 -1.05578125e+02\n",
      " -6.05312500e+01 -1.39375000e+01  1.38140625e+02  9.87500000e+01\n",
      "  6.82812500e+01  2.85625000e+01  7.81250000e+00  4.27890625e+01\n",
      "  2.13750000e+01  2.47500000e+01  2.26015625e+01  1.21875000e+01\n",
      "  2.33437500e+01  1.94375000e+01  9.30781250e+01  8.40625000e+00\n",
      "  7.06250000e+00]\n"
     ]
    }
   ],
   "source": [
    "poly = PolynomialFeatures(degree=2, include_bias=False)\n",
    "X_train_poly = poly.fit_transform(X_train)\n",
    "X_test_poly = poly.transform(X_test)\n",
    "\n",
    "print('\\nX_train.shape =', X_train.shape)\n",
    "print('X_train_poly.shape =', X_train_poly.shape)\n",
    "\n",
    "scaler = StandardScaler()\n",
    "X_train_poly_scaled = scaler.fit_transform(X_train_poly)\n",
    "X_test_poly_scaled = scaler.transform(X_test_poly)\n",
    "\n",
    "poly_lin_reg = LinearRegression()\n",
    "poly_lin_reg.fit(X_train_poly_scaled, y_train)\n",
    "\n",
    "print('\\nPolynomial + Linear Regression')\n",
    "print('R2 train score =', poly_lin_reg.score(X_train_poly_scaled, y_train))\n",
    "print('R2 test score =', poly_lin_reg.score(X_test_poly_scaled, y_test))\n",
    "print('b: {}, \\nw= {}'.format(poly_lin_reg.intercept_, poly_lin_reg.coef_))"
   ]
  },
  {
   "cell_type": "code",
   "execution_count": null,
   "id": "51d39cac-0d36-45eb-a020-7d8bba7434fa",
   "metadata": {},
   "outputs": [],
   "source": []
  },
  {
   "cell_type": "code",
   "execution_count": null,
   "id": "5c6cb8c0-cb36-4ada-8c59-01119d2bc161",
   "metadata": {},
   "outputs": [],
   "source": []
  },
  {
   "cell_type": "code",
   "execution_count": null,
   "id": "6e6a9120-e6aa-4eb9-a1f2-6506904f7ad1",
   "metadata": {},
   "outputs": [],
   "source": []
  }
 ],
 "metadata": {
  "kernelspec": {
   "display_name": "Python [conda env:base] *",
   "language": "python",
   "name": "conda-base-py"
  },
  "language_info": {
   "codemirror_mode": {
    "name": "ipython",
    "version": 3
   },
   "file_extension": ".py",
   "mimetype": "text/x-python",
   "name": "python",
   "nbconvert_exporter": "python",
   "pygments_lexer": "ipython3",
   "version": "3.12.7"
  }
 },
 "nbformat": 4,
 "nbformat_minor": 5
}
