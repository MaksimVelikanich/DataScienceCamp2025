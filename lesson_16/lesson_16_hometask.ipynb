{
 "cells": [
  {
   "cell_type": "markdown",
   "id": "46423ef6-7e65-42b3-8360-fb6b942da13f",
   "metadata": {},
   "source": [
    "<h1 style=\"color: green;\">Home task : FastAi. Collaborative filtering</h1>"
   ]
  },
  {
   "cell_type": "code",
   "execution_count": 125,
   "id": "9139529e-ba06-41e0-a521-3cf421f38adf",
   "metadata": {},
   "outputs": [],
   "source": [
    "\n",
    "import pandas as pd\n",
    "movies_df = pd.read_csv(\"/Users/user/Desktop/Camp2025/lesson_16/data/tmdb_5000_movies.csv\")\n",
    "\n"
   ]
  },
  {
   "cell_type": "code",
   "execution_count": 127,
   "id": "094d4b33-ec92-4720-aef8-d91105ea9434",
   "metadata": {},
   "outputs": [
    {
     "data": {
      "text/plain": [
       "6.092171559442016"
      ]
     },
     "execution_count": 127,
     "metadata": {},
     "output_type": "execute_result"
    }
   ],
   "source": [
    "averageAllFilms = movies['vote_average'].mean()\n",
    "averageAllFilms\n"
   ]
  },
  {
   "cell_type": "code",
   "execution_count": 129,
   "id": "edf5b61d-c4d3-42cc-b2ef-09e818a0f6e9",
   "metadata": {},
   "outputs": [
    {
     "data": {
      "text/plain": [
       "1300.6999999999998"
      ]
     },
     "execution_count": 129,
     "metadata": {},
     "output_type": "execute_result"
    }
   ],
   "source": [
    "threshold = movies['vote_count'].quantile(0.85)\n",
    "\n",
    "threshold"
   ]
  },
  {
   "cell_type": "code",
   "execution_count": 131,
   "id": "87deec0e-7999-435c-a64a-8bf81d72c236",
   "metadata": {},
   "outputs": [
    {
     "data": {
      "text/plain": [
       "721"
      ]
     },
     "execution_count": 131,
     "metadata": {},
     "output_type": "execute_result"
    }
   ],
   "source": [
    "popular_movies = movies[movies['vote_count'] >= Threshold].copy()\n",
    "len(popular_movies)\n"
   ]
  },
  {
   "cell_type": "code",
   "execution_count": 133,
   "id": "7f28a06d-9b69-43d6-82fe-39fba5c24810",
   "metadata": {},
   "outputs": [],
   "source": [
    "def weighted_rating(x, threshold=threshold, averageAllFilms=averageAllFilms):\n",
    "    v = x['vote_count']\n",
    "    R = x['vote_average']\n",
    "    return (v / (v + threshold) * R) + (threshold / (v + threshold) * averageAllFilms)\n",
    "\n"
   ]
  },
  {
   "cell_type": "code",
   "execution_count": 135,
   "id": "cd765544-89eb-4d25-85ce-091218844c28",
   "metadata": {},
   "outputs": [],
   "source": [
    "popular_movies['score'] = popular_movies.apply(weighted_rating, axis=1)\n",
    "best_series"
   ]
  },
  {
   "cell_type": "code",
   "execution_count": 137,
   "id": "765ee969-8c62-461c-b332-d56bedfecfb9",
   "metadata": {},
   "outputs": [
    {
     "data": {
      "text/html": [
       "<div>\n",
       "<style scoped>\n",
       "    .dataframe tbody tr th:only-of-type {\n",
       "        vertical-align: middle;\n",
       "    }\n",
       "\n",
       "    .dataframe tbody tr th {\n",
       "        vertical-align: top;\n",
       "    }\n",
       "\n",
       "    .dataframe thead th {\n",
       "        text-align: right;\n",
       "    }\n",
       "</style>\n",
       "<table border=\"1\" class=\"dataframe\">\n",
       "  <thead>\n",
       "    <tr style=\"text-align: right;\">\n",
       "      <th></th>\n",
       "      <th>title</th>\n",
       "      <th>vote_count</th>\n",
       "      <th>vote_average</th>\n",
       "      <th>score</th>\n",
       "    </tr>\n",
       "  </thead>\n",
       "  <tbody>\n",
       "    <tr>\n",
       "      <th>1881</th>\n",
       "      <td>The Shawshank Redemption</td>\n",
       "      <td>8205</td>\n",
       "      <td>8.5</td>\n",
       "      <td>8.170528</td>\n",
       "    </tr>\n",
       "    <tr>\n",
       "      <th>662</th>\n",
       "      <td>Fight Club</td>\n",
       "      <td>9413</td>\n",
       "      <td>8.3</td>\n",
       "      <td>8.031958</td>\n",
       "    </tr>\n",
       "    <tr>\n",
       "      <th>3232</th>\n",
       "      <td>Pulp Fiction</td>\n",
       "      <td>8428</td>\n",
       "      <td>8.3</td>\n",
       "      <td>8.004820</td>\n",
       "    </tr>\n",
       "    <tr>\n",
       "      <th>65</th>\n",
       "      <td>The Dark Knight</td>\n",
       "      <td>12002</td>\n",
       "      <td>8.2</td>\n",
       "      <td>7.993903</td>\n",
       "    </tr>\n",
       "    <tr>\n",
       "      <th>3337</th>\n",
       "      <td>The Godfather</td>\n",
       "      <td>5893</td>\n",
       "      <td>8.4</td>\n",
       "      <td>7.982719</td>\n",
       "    </tr>\n",
       "    <tr>\n",
       "      <th>96</th>\n",
       "      <td>Inception</td>\n",
       "      <td>13752</td>\n",
       "      <td>8.1</td>\n",
       "      <td>7.926504</td>\n",
       "    </tr>\n",
       "    <tr>\n",
       "      <th>809</th>\n",
       "      <td>Forrest Gump</td>\n",
       "      <td>7927</td>\n",
       "      <td>8.2</td>\n",
       "      <td>7.902889</td>\n",
       "    </tr>\n",
       "    <tr>\n",
       "      <th>95</th>\n",
       "      <td>Interstellar</td>\n",
       "      <td>10867</td>\n",
       "      <td>8.1</td>\n",
       "      <td>7.885368</td>\n",
       "    </tr>\n",
       "    <tr>\n",
       "      <th>329</th>\n",
       "      <td>The Lord of the Rings: The Return of the King</td>\n",
       "      <td>8064</td>\n",
       "      <td>8.1</td>\n",
       "      <td>7.821125</td>\n",
       "    </tr>\n",
       "    <tr>\n",
       "      <th>1990</th>\n",
       "      <td>The Empire Strikes Back</td>\n",
       "      <td>5879</td>\n",
       "      <td>8.2</td>\n",
       "      <td>7.818138</td>\n",
       "    </tr>\n",
       "    <tr>\n",
       "      <th>1818</th>\n",
       "      <td>Schindler's List</td>\n",
       "      <td>4329</td>\n",
       "      <td>8.3</td>\n",
       "      <td>7.789898</td>\n",
       "    </tr>\n",
       "    <tr>\n",
       "      <th>3865</th>\n",
       "      <td>Whiplash</td>\n",
       "      <td>4254</td>\n",
       "      <td>8.3</td>\n",
       "      <td>7.783010</td>\n",
       "    </tr>\n",
       "    <tr>\n",
       "      <th>2912</th>\n",
       "      <td>Star Wars</td>\n",
       "      <td>6624</td>\n",
       "      <td>8.1</td>\n",
       "      <td>7.770450</td>\n",
       "    </tr>\n",
       "    <tr>\n",
       "      <th>262</th>\n",
       "      <td>The Lord of the Rings: The Fellowship of the Ring</td>\n",
       "      <td>8705</td>\n",
       "      <td>8.0</td>\n",
       "      <td>7.751990</td>\n",
       "    </tr>\n",
       "    <tr>\n",
       "      <th>2294</th>\n",
       "      <td>Spirited Away</td>\n",
       "      <td>3840</td>\n",
       "      <td>8.3</td>\n",
       "      <td>7.741375</td>\n",
       "    </tr>\n",
       "    <tr>\n",
       "      <th>1553</th>\n",
       "      <td>Se7en</td>\n",
       "      <td>5765</td>\n",
       "      <td>8.1</td>\n",
       "      <td>7.730386</td>\n",
       "    </tr>\n",
       "    <tr>\n",
       "      <th>330</th>\n",
       "      <td>The Lord of the Rings: The Two Towers</td>\n",
       "      <td>7487</td>\n",
       "      <td>8.0</td>\n",
       "      <td>7.717615</td>\n",
       "    </tr>\n",
       "    <tr>\n",
       "      <th>690</th>\n",
       "      <td>The Green Mile</td>\n",
       "      <td>4048</td>\n",
       "      <td>8.2</td>\n",
       "      <td>7.687417</td>\n",
       "    </tr>\n",
       "    <tr>\n",
       "      <th>94</th>\n",
       "      <td>Guardians of the Galaxy</td>\n",
       "      <td>9742</td>\n",
       "      <td>7.9</td>\n",
       "      <td>7.687059</td>\n",
       "    </tr>\n",
       "    <tr>\n",
       "      <th>77</th>\n",
       "      <td>Inside Out</td>\n",
       "      <td>6560</td>\n",
       "      <td>8.0</td>\n",
       "      <td>7.684314</td>\n",
       "    </tr>\n",
       "    <tr>\n",
       "      <th>2731</th>\n",
       "      <td>The Godfather: Part II</td>\n",
       "      <td>3338</td>\n",
       "      <td>8.3</td>\n",
       "      <td>7.680921</td>\n",
       "    </tr>\n",
       "    <tr>\n",
       "      <th>634</th>\n",
       "      <td>The Matrix</td>\n",
       "      <td>8907</td>\n",
       "      <td>7.9</td>\n",
       "      <td>7.669640</td>\n",
       "    </tr>\n",
       "    <tr>\n",
       "      <th>2285</th>\n",
       "      <td>Back to the Future</td>\n",
       "      <td>6079</td>\n",
       "      <td>8.0</td>\n",
       "      <td>7.663738</td>\n",
       "    </tr>\n",
       "    <tr>\n",
       "      <th>2522</th>\n",
       "      <td>The Imitation Game</td>\n",
       "      <td>5723</td>\n",
       "      <td>8.0</td>\n",
       "      <td>7.646694</td>\n",
       "    </tr>\n",
       "    <tr>\n",
       "      <th>2091</th>\n",
       "      <td>The Silence of the Lambs</td>\n",
       "      <td>4443</td>\n",
       "      <td>8.1</td>\n",
       "      <td>7.645314</td>\n",
       "    </tr>\n",
       "  </tbody>\n",
       "</table>\n",
       "</div>"
      ],
      "text/plain": [
       "                                                  title  vote_count  \\\n",
       "1881                           The Shawshank Redemption        8205   \n",
       "662                                          Fight Club        9413   \n",
       "3232                                       Pulp Fiction        8428   \n",
       "65                                      The Dark Knight       12002   \n",
       "3337                                      The Godfather        5893   \n",
       "96                                            Inception       13752   \n",
       "809                                        Forrest Gump        7927   \n",
       "95                                         Interstellar       10867   \n",
       "329       The Lord of the Rings: The Return of the King        8064   \n",
       "1990                            The Empire Strikes Back        5879   \n",
       "1818                                   Schindler's List        4329   \n",
       "3865                                           Whiplash        4254   \n",
       "2912                                          Star Wars        6624   \n",
       "262   The Lord of the Rings: The Fellowship of the Ring        8705   \n",
       "2294                                      Spirited Away        3840   \n",
       "1553                                              Se7en        5765   \n",
       "330               The Lord of the Rings: The Two Towers        7487   \n",
       "690                                      The Green Mile        4048   \n",
       "94                              Guardians of the Galaxy        9742   \n",
       "77                                           Inside Out        6560   \n",
       "2731                             The Godfather: Part II        3338   \n",
       "634                                          The Matrix        8907   \n",
       "2285                                 Back to the Future        6079   \n",
       "2522                                 The Imitation Game        5723   \n",
       "2091                           The Silence of the Lambs        4443   \n",
       "\n",
       "      vote_average     score  \n",
       "1881           8.5  8.170528  \n",
       "662            8.3  8.031958  \n",
       "3232           8.3  8.004820  \n",
       "65             8.2  7.993903  \n",
       "3337           8.4  7.982719  \n",
       "96             8.1  7.926504  \n",
       "809            8.2  7.902889  \n",
       "95             8.1  7.885368  \n",
       "329            8.1  7.821125  \n",
       "1990           8.2  7.818138  \n",
       "1818           8.3  7.789898  \n",
       "3865           8.3  7.783010  \n",
       "2912           8.1  7.770450  \n",
       "262            8.0  7.751990  \n",
       "2294           8.3  7.741375  \n",
       "1553           8.1  7.730386  \n",
       "330            8.0  7.717615  \n",
       "690            8.2  7.687417  \n",
       "94             7.9  7.687059  \n",
       "77             8.0  7.684314  \n",
       "2731           8.3  7.680921  \n",
       "634            7.9  7.669640  \n",
       "2285           8.0  7.663738  \n",
       "2522           8.0  7.646694  \n",
       "2091           8.1  7.645314  "
      ]
     },
     "execution_count": 137,
     "metadata": {},
     "output_type": "execute_result"
    }
   ],
   "source": [
    "popular_movies = popular_movies.sort_values('score', ascending=False)\n",
    "\n",
    "popular_movies[['title', 'vote_count', 'vote_average', 'score']].head(25)\n"
   ]
  },
  {
   "cell_type": "code",
   "execution_count": null,
   "id": "ab2dae8f",
   "metadata": {
    "vscode": {
     "languageId": "polyglot-notebook"
    }
   },
   "outputs": [],
   "source": []
  }
 ],
 "metadata": {
  "kernelspec": {
   "display_name": ".NET (C#)",
   "language": "C#",
   "name": ".net-csharp"
  },
  "language_info": {
   "codemirror_mode": {
    "name": "ipython",
    "version": 3
   },
   "file_extension": ".py",
   "mimetype": "text/x-python",
   "name": "python",
   "nbconvert_exporter": "python",
   "pygments_lexer": "ipython3",
   "version": "3.12.7"
  },
  "polyglot_notebook": {
   "kernelInfo": {
    "defaultKernelName": "csharp",
    "items": [
     {
      "aliases": [],
      "name": "csharp"
     }
    ]
   }
  }
 },
 "nbformat": 4,
 "nbformat_minor": 5
}
